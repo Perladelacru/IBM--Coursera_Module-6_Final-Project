{
 "cells": [
  {
   "cell_type": "markdown",
   "id": "51c77440-9861-4f2c-95fe-098b5ec5eaa1",
   "metadata": {},
   "source": [
    "# IBM Data Science_Module 6_Final Project (Exercise 2)"
   ]
  },
  {
   "cell_type": "markdown",
   "id": "1ac0c294-10b6-4296-9798-9200730c38cf",
   "metadata": {},
   "source": [
    "# IBM Data Science_Module 6_Final Project (Exercise 2)"
   ]
  },
  {
   "cell_type": "markdown",
   "id": "a52b2caa-0369-48d6-82c6-5a80761084d6",
   "metadata": {},
   "source": [
    "# Introduction: Hi! This notebook is part of my final project for the Module 6 of the IBM course. It will cover key concepts and also examples of basic mathematical operations.  (Exercise 3)"
   ]
  },
  {
   "cell_type": "markdown",
   "id": "908ab049-bb7c-42b4-96e8-ee3b29f28324",
   "metadata": {},
   "source": [
    "# (Exercise 4) The most common programming languages in data science are:\n",
    "    1. Python\n",
    "    2. Scala\n",
    "    3. R\n",
    "    4. Julia\n",
    "    5. SQL\n"
   ]
  },
  {
   "cell_type": "markdown",
   "id": "c9da11db-0fe8-4834-a9d4-cbc061a02ce3",
   "metadata": {},
   "source": [
    "# (Exercise 5) The most popular libraries in data science are:\n",
    "    1. Pandas\n",
    "    2. NumPy\n",
    "    3. Matplotlib\n",
    "    4. Scikit-learn\n",
    "    5. PyTorch\n",
    "    6. TensorFlow\n"
   ]
  },
  {
   "cell_type": "markdown",
   "id": "e0bb3074-09ac-47d5-85d9-d11da01ad3fc",
   "metadata": {
    "jp-MarkdownHeadingCollapsed": true
   },
   "source": [
    "# (Exercise 6) Data Science Tools\n",
    "\n",
    "| Tools            | Description                                                                |\n",
    "|------------------|----------------------------------------------------------------------------|\n",
    "| RStudio          | It is a development environment integrated for R                           |\n",
    "| Jupyter Notebook | It is an interactive environment for programming and analyzing data        |\n",
    "| Apache Spark     | It is an engine for processing distributed data                            |\n",
    "| Pandas           | It is an open source Python library for data analysis and manipulation     |\n",
    "\n",
    "\n"
   ]
  },
  {
   "cell_type": "markdown",
   "id": "28a91c27-0e5a-4461-8ddd-1b938a06bb7f",
   "metadata": {},
   "source": [
    "# (Exercise 7) In this part, we are going to show some examples of basic arithmetic operations that you can do"
   ]
  },
  {
   "cell_type": "code",
   "execution_count": 3,
   "id": "a0f04c89-5455-4d9f-a573-a3083981d3f5",
   "metadata": {},
   "outputs": [
    {
     "data": {
      "text/plain": [
       "9"
      ]
     },
     "execution_count": 3,
     "metadata": {},
     "output_type": "execute_result"
    }
   ],
   "source": [
    "# Exercise 8 - Create a code cell to multiply and add numbers\n",
    "# Add \n",
    "A = 4\n",
    "B = 5\n",
    "A+B"
   ]
  },
  {
   "cell_type": "code",
   "execution_count": 5,
   "id": "edefc77d-5641-4737-b96f-f35157480044",
   "metadata": {},
   "outputs": [
    {
     "data": {
      "text/plain": [
       "20"
      ]
     },
     "execution_count": 5,
     "metadata": {},
     "output_type": "execute_result"
    }
   ],
   "source": [
    "# Exercise 8 - Create a code cell to multiply and add numbers\n",
    "# Multiply  \n",
    "A = 4\n",
    "B = 5\n",
    "A*B"
   ]
  },
  {
   "cell_type": "code",
   "execution_count": 9,
   "id": "89765675-350a-4c0e-b815-f40cc2bf180b",
   "metadata": {},
   "outputs": [
    {
     "data": {
      "text/plain": [
       "0.5666666666666667"
      ]
     },
     "execution_count": 9,
     "metadata": {},
     "output_type": "execute_result"
    }
   ],
   "source": [
    "# Exercise 9 - Create a code cell to convert minutes to hours (1 hour = 60 minutes)\n",
    "# 1 hour - 60 minutes\n",
    "#  x  -  34  minutes \n",
    "34/60\n",
    " "
   ]
  },
  {
   "cell_type": "code",
   "execution_count": 11,
   "id": "7c588f62-039e-46c3-a8f1-d4a722b147b4",
   "metadata": {},
   "outputs": [
    {
     "data": {
      "text/plain": [
       "0.5666666666666667"
      ]
     },
     "execution_count": 11,
     "metadata": {},
     "output_type": "execute_result"
    }
   ],
   "source": [
    "# You can also do this \n",
    "minute = 34\n",
    "hour = minute / 60\n",
    "hour"
   ]
  },
  {
   "cell_type": "code",
   "execution_count": 25,
   "id": "50ebcf3d-bc5b-4f95-91af-1f4c65e3bac0",
   "metadata": {},
   "outputs": [
    {
     "name": "stdout",
     "output_type": "stream",
     "text": [
      "The objectives of this practice are:\n",
      "Learn how to be a data science professional\n",
      "Learn about tools, popular libraries and also important key concepts\n",
      "Learn basic arithmetic operations you can try\n"
     ]
    }
   ],
   "source": [
    "# Exercise 10 - Insert a code cell to list Objectives.\n",
    "list = [\"The objectives of this practice are:\",\"Learn how to be a data science professional\", \n",
    "             \"Learn about tools, popular libraries and also important key concepts\", \n",
    "             \"Learn basic arithmetic operations you can try\"]\n",
    "for list in list:\n",
    "    print(list)"
   ]
  },
  {
   "cell_type": "markdown",
   "id": "e9dfd27f-4bde-4a5c-8ef4-0e6970b38742",
   "metadata": {},
   "source": [
    "# (Exercise 11) - Author: \n",
    "\n",
    "Perla De la Cruz"
   ]
  }
 ],
 "metadata": {
  "kernelspec": {
   "display_name": "Python 3 (ipykernel)",
   "language": "python",
   "name": "python3"
  },
  "language_info": {
   "codemirror_mode": {
    "name": "ipython",
    "version": 3
   },
   "file_extension": ".py",
   "mimetype": "text/x-python",
   "name": "python",
   "nbconvert_exporter": "python",
   "pygments_lexer": "ipython3",
   "version": "3.12.4"
  }
 },
 "nbformat": 4,
 "nbformat_minor": 5
}
